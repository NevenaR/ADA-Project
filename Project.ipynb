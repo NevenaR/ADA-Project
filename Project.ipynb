{
 "cells": [
  {
   "cell_type": "code",
   "execution_count": 2,
   "metadata": {
    "collapsed": false
   },
   "outputs": [
    {
     "name": "stdout",
     "output_type": "stream",
     "text": [
      "Populating the interactive namespace from numpy and matplotlib\n",
      "Project.ipynb\n",
      "README.md\n",
      "Untitled.ipynb\n",
      "imagesSwitzerland (1).txt\n",
      "imagesSwitzerland.csv\n",
      "imagesSwitzerland.txt\n",
      "\n"
     ]
    }
   ],
   "source": [
    "import numpy as np\n",
    "import pandas as pd\n",
    "import seaborn as sns\n",
    "import matplotlib.pyplot as plt\n",
    "%pylab inline\n",
    "pylab.rcParams['figure.figsize'] = (10, 6) \n",
    "data_path = \"./\"\n",
    "from subprocess import check_output\n",
    "print(check_output([\"ls\", data_path]).decode(\"utf8\"))"
   ]
  },
  {
   "cell_type": "code",
   "execution_count": 3,
   "metadata": {
    "collapsed": false,
    "scrolled": true
   },
   "outputs": [],
   "source": [
    "def loadDataToDF():\n",
    "    text=pd.read_csv(\"imagesSwitzerland.csv\")\n",
    "    x=text[text.columns.values[0]].dropna().tolist()\n",
    "    ids=[]\n",
    "    owners=[]\n",
    "    titles=[]\n",
    "    originals=[]\n",
    "    originalf=[]\n",
    "    height=[]\n",
    "    width=[]\n",
    "    datetaken=[]\n",
    "    dateupload=[]\n",
    "    tags=[]\n",
    "    license=[]\n",
    "    lat=[]\n",
    "    long=[]\n",
    "    acc=[]\n",
    "    views=[]\n",
    "    inter=[]\n",
    "    df=pd.DataFrame()\n",
    "    for index in range(0,len(x),16):\n",
    "        pid=x[index]\n",
    "        ids.extend([pid[pid.find(\"<item>\")+13:pid.find(\"</photo>\")]])\n",
    "        \n",
    "        own=x[index+1]\n",
    "        owners.extend([own[own.find(\"<owner>\")+7:own.find(\"</owner>\")]])\n",
    "        titl=x[index+2]\n",
    "        titles.extend([titl[titl.find(\"<title>\")+7:titl.find(\"</title>\")]])\n",
    "        ori=x[index+3]\n",
    "        originals.extend([ori[ori.find(\"<originalsecret>\")+16:ori.find(\"</originalsecret>\")]])\n",
    "        oriF=x[index+4]\n",
    "        originalf.extend([oriF[oriF.find(\"<originalformat>\")+16:oriF.find(\"</originalformat>\")]])\n",
    "        \n",
    "        he=x[index+5]\n",
    "        height.extend([he[he.find(\"<o_height>\")+10:he.find(\"</o_height>\")]])\n",
    "        \n",
    "        we=x[index+6]\n",
    "        width.extend([we[we.find(\"<o_width>\")+9:we.find(\"</o_width>\")]])\n",
    "        \n",
    "        dt=x[index+7]\n",
    "        datetaken.extend([dt[dt.find(\"<datetaken>\")+11:dt.find(\"</datetaken>\")]])\n",
    "        \n",
    "        du=x[index+8]\n",
    "        dateupload.extend([du[du.find(\"<dateupload>\")+12:du.find(\"</dateupload>\")]])\n",
    "        \n",
    "        #problem in preprocessed file. Sometimes tags are in <item><photo> elements\n",
    "        tg=x[index+9]\n",
    "        if \"<item>\" in tg: tags.extend([tg[tg.find(\"<item>\")+13:tg.find(\"</photo>\")]])\n",
    "        else: tags.extend([tg[tg.find(\"<tags>\")+6:tg.find(\"</tags>\")]])\n",
    "        \n",
    "        li=x[index+10]\n",
    "        license.extend([li[li.find(\"<license>\")+9:li.find(\"</license>\")]])\n",
    "        \n",
    "        la=x[index+11]\n",
    "        lat.extend([la[la.find(\"<latitude>\")+10:la.find(\"</latitude>\")]])\n",
    "        \n",
    "        lo=x[index+12]\n",
    "        long.extend([lo[lo.find(\"<longitude>\")+11:lo.find(\"</longitude>\")]])\n",
    "        \n",
    "        accuracy=x[index+13]\n",
    "        acc.extend([accuracy[accuracy.find(\"<accuracy>\")+10:accuracy.find(\"</accuracy>\")]])\n",
    "        \n",
    "        vw=x[index+14]\n",
    "        views.extend([vw[vw.find(\"<views>\")+7:vw.find(\"</views>\")]])\n",
    "        \n",
    "        inte=x[index+15]\n",
    "        inter.extend([inte[inte.find(\"<interestingness>\")+17:inte.find(\"</interestingness>\")]])\n",
    "        \n",
    "    df[\"photo_id\"]=ids\n",
    "    df[\"owner\"]=owners\n",
    "    df[\"title\"]=titles\n",
    "    df[\"originalsecret\"]=originals\n",
    "    df[\"originalformat\"]=originalf\n",
    "    df[\"o_height\"]=height\n",
    "    df[\"o_width\"]=width\n",
    "    df[\"datetaken\"]=datetaken\n",
    "    df[\"dateupload\"]=dateupload\n",
    "    df[\"tags\"]=tags\n",
    "    df[\"license\"]=license\n",
    "    df[\"latitude\"]=lat\n",
    "    df[\"longitude\"]=long\n",
    "    df[\"accuracy\"]=acc\n",
    "    df[\"views\"]=views\n",
    "    df[\"interestingness\"]=inter    \n",
    "    return df\n"
   ]
  },
  {
   "cell_type": "code",
   "execution_count": 4,
   "metadata": {
    "collapsed": false
   },
   "outputs": [
    {
     "name": "stderr",
     "output_type": "stream",
     "text": [
      "/Users/Sam/anaconda/lib/python3.5/site-packages/IPython/core/interactiveshell.py:2825: DtypeWarning: Columns (2,3,4) have mixed types. Specify dtype option on import or set low_memory=False.\n",
      "  if self.run_code(code, result):\n"
     ]
    }
   ],
   "source": [
    "flickers = loadDataToDF()"
   ]
  },
  {
   "cell_type": "code",
   "execution_count": 11,
   "metadata": {
    "collapsed": false
   },
   "outputs": [
    {
     "data": {
      "text/html": [
       "<div>\n",
       "<table border=\"1\" class=\"dataframe\">\n",
       "  <thead>\n",
       "    <tr style=\"text-align: right;\">\n",
       "      <th></th>\n",
       "      <th>photo_id</th>\n",
       "      <th>owner</th>\n",
       "      <th>title</th>\n",
       "      <th>originalsecret</th>\n",
       "      <th>originalformat</th>\n",
       "      <th>o_height</th>\n",
       "      <th>o_width</th>\n",
       "      <th>datetaken</th>\n",
       "      <th>dateupload</th>\n",
       "      <th>tags</th>\n",
       "      <th>license</th>\n",
       "      <th>latitude</th>\n",
       "      <th>longitude</th>\n",
       "      <th>accuracy</th>\n",
       "      <th>views</th>\n",
       "      <th>interestingness</th>\n",
       "    </tr>\n",
       "  </thead>\n",
       "  <tbody>\n",
       "    <tr>\n",
       "      <th>35209</th>\n",
       "      <td>1053737742 ced9c9c471 1375</td>\n",
       "      <td>84554176@N00</td>\n",
       "      <td>2007-07-28</td>\n",
       "      <td>861e8f8a18</td>\n",
       "      <td>jpg</td>\n",
       "      <td>1280</td>\n",
       "      <td>960</td>\n",
       "      <td>2007-07-28 17:57:27</td>\n",
       "      <td>1186601165</td>\n",
       "      <td>schweiz switzerland suisse leman vevey laclem...</td>\n",
       "      <td>4</td>\n",
       "      <td>46.460846</td>\n",
       "      <td>6.841220</td>\n",
       "      <td>14</td>\n",
       "      <td>98</td>\n",
       "      <td>45 out of 252</td>\n",
       "    </tr>\n",
       "    <tr>\n",
       "      <th>23023</th>\n",
       "      <td>582356033 d26e5cdc6b 1157</td>\n",
       "      <td>48458761@N00</td>\n",
       "      <td>...</td>\n",
       "      <td>3b0c4080dc</td>\n",
       "      <td>jpg</td>\n",
       "      <td>1520</td>\n",
       "      <td>1521</td>\n",
       "      <td>2007-06-07 15:25:20</td>\n",
       "      <td>1182458869</td>\n",
       "      <td>schweiz switzerland suisse streetphotography 1...</td>\n",
       "      <td>0</td>\n",
       "      <td>47.388286</td>\n",
       "      <td>8.528641</td>\n",
       "      <td>16</td>\n",
       "      <td>3</td>\n",
       "      <td>76 out of 244</td>\n",
       "    </tr>\n",
       "    <tr>\n",
       "      <th>14031</th>\n",
       "      <td>496199726 799fc96753 224</td>\n",
       "      <td>7889561@N02</td>\n",
       "      <td>Light within</td>\n",
       "      <td>null</td>\n",
       "      <td>null</td>\n",
       "      <td>null</td>\n",
       "      <td>null</td>\n",
       "      <td>2006-06-29 13:52:19</td>\n",
       "      <td>1179066714</td>\n",
       "      <td>blackandwhite abandoned switzerland decay urb...</td>\n",
       "      <td>0</td>\n",
       "      <td>46.519968</td>\n",
       "      <td>8.675588</td>\n",
       "      <td>16</td>\n",
       "      <td>709</td>\n",
       "      <td>90 out of 234</td>\n",
       "    </tr>\n",
       "    <tr>\n",
       "      <th>29985</th>\n",
       "      <td>864508087 432b83a25a 1326</td>\n",
       "      <td>33825141@N00</td>\n",
       "      <td>Aletsch glacier</td>\n",
       "      <td>870c9f7d42</td>\n",
       "      <td>jpg</td>\n",
       "      <td>null</td>\n",
       "      <td>null</td>\n",
       "      <td>2007-07-21 18:40:00</td>\n",
       "      <td>1185033600</td>\n",
       "      <td>blue sky panorama clouds switzerland rocks gl...</td>\n",
       "      <td>0</td>\n",
       "      <td>46.441819</td>\n",
       "      <td>8.107738</td>\n",
       "      <td>12</td>\n",
       "      <td>4144</td>\n",
       "      <td>3 out of 267</td>\n",
       "    </tr>\n",
       "    <tr>\n",
       "      <th>9404</th>\n",
       "      <td>457052092 eda03f0368 250</td>\n",
       "      <td>31847200@N00</td>\n",
       "      <td>Alps</td>\n",
       "      <td>034b37bda3</td>\n",
       "      <td>jpg</td>\n",
       "      <td>null</td>\n",
       "      <td>null</td>\n",
       "      <td>2007-04-06 13:11:56</td>\n",
       "      <td>1176419967</td>\n",
       "      <td>snow mountains alps switzerland 2007 snowcave</td>\n",
       "      <td>0</td>\n",
       "      <td>46.547490</td>\n",
       "      <td>7.983080</td>\n",
       "      <td>16</td>\n",
       "      <td>28</td>\n",
       "      <td>66 out of 262</td>\n",
       "    </tr>\n",
       "  </tbody>\n",
       "</table>\n",
       "</div>"
      ],
      "text/plain": [
       "                          photo_id          owner             title  \\\n",
       "35209   1053737742 ced9c9c471 1375   84554176@N00        2007-07-28   \n",
       "23023    582356033 d26e5cdc6b 1157   48458761@N00               ...   \n",
       "14031     496199726 799fc96753 224    7889561@N02      Light within   \n",
       "29985    864508087 432b83a25a 1326   33825141@N00   Aletsch glacier   \n",
       "9404      457052092 eda03f0368 250   31847200@N00              Alps   \n",
       "\n",
       "      originalsecret originalformat o_height o_width             datetaken  \\\n",
       "35209     861e8f8a18            jpg     1280     960   2007-07-28 17:57:27   \n",
       "23023     3b0c4080dc            jpg     1520    1521   2007-06-07 15:25:20   \n",
       "14031           null           null     null    null   2006-06-29 13:52:19   \n",
       "29985     870c9f7d42            jpg     null    null   2007-07-21 18:40:00   \n",
       "9404      034b37bda3            jpg     null    null   2007-04-06 13:11:56   \n",
       "\n",
       "        dateupload                                               tags license  \\\n",
       "35209   1186601165   schweiz switzerland suisse leman vevey laclem...       4   \n",
       "23023   1182458869  schweiz switzerland suisse streetphotography 1...       0   \n",
       "14031   1179066714   blackandwhite abandoned switzerland decay urb...       0   \n",
       "29985   1185033600   blue sky panorama clouds switzerland rocks gl...       0   \n",
       "9404    1176419967      snow mountains alps switzerland 2007 snowcave       0   \n",
       "\n",
       "         latitude  longitude accuracy  views interestingness  \n",
       "35209   46.460846   6.841220       14     98   45 out of 252  \n",
       "23023   47.388286   8.528641       16      3   76 out of 244  \n",
       "14031   46.519968   8.675588       16    709   90 out of 234  \n",
       "29985   46.441819   8.107738       12   4144    3 out of 267  \n",
       "9404    46.547490   7.983080       16     28   66 out of 262  "
      ]
     },
     "execution_count": 11,
     "metadata": {},
     "output_type": "execute_result"
    }
   ],
   "source": [
    "flickers.sample(5)"
   ]
  },
  {
   "cell_type": "code",
   "execution_count": 9,
   "metadata": {
    "collapsed": false
   },
   "outputs": [
    {
     "name": "stdout",
     "output_type": "stream",
     "text": [
      "<class 'pandas.core.frame.DataFrame'>\n",
      "RangeIndex: 51834 entries, 0 to 51833\n",
      "Data columns (total 16 columns):\n",
      "photo_id           51834 non-null object\n",
      "owner              51834 non-null object\n",
      "title              51834 non-null object\n",
      "originalsecret     51834 non-null object\n",
      "originalformat     51834 non-null object\n",
      "o_height           51834 non-null object\n",
      "o_width            51834 non-null object\n",
      "datetaken          51834 non-null object\n",
      "dateupload         51834 non-null object\n",
      "tags               51834 non-null object\n",
      "license            51834 non-null object\n",
      "latitude           51834 non-null object\n",
      "longitude          51834 non-null object\n",
      "accuracy           51834 non-null object\n",
      "views              51834 non-null object\n",
      "interestingness    51834 non-null object\n",
      "dtypes: object(16)\n",
      "memory usage: 6.3+ MB\n"
     ]
    }
   ],
   "source": [
    "flickers.info()"
   ]
  },
  {
   "cell_type": "code",
   "execution_count": 12,
   "metadata": {
    "collapsed": true
   },
   "outputs": [],
   "source": [
    "flickers = flickers[['owner', 'title', 'datetaken', 'tags', 'latitude', 'longitude', 'accuracy', 'views', 'interestingness']]"
   ]
  },
  {
   "cell_type": "code",
   "execution_count": 14,
   "metadata": {
    "collapsed": false
   },
   "outputs": [
    {
     "name": "stdout",
     "output_type": "stream",
     "text": [
      "<class 'pandas.core.frame.DataFrame'>\n",
      "RangeIndex: 51834 entries, 0 to 51833\n",
      "Data columns (total 9 columns):\n",
      "owner              51834 non-null object\n",
      "title              51834 non-null object\n",
      "datetaken          51834 non-null object\n",
      "tags               51834 non-null object\n",
      "latitude           51834 non-null object\n",
      "longitude          51834 non-null object\n",
      "accuracy           51834 non-null object\n",
      "views              51834 non-null object\n",
      "interestingness    51834 non-null object\n",
      "dtypes: object(9)\n",
      "memory usage: 3.6+ MB\n"
     ]
    }
   ],
   "source": [
    "flickers.info()"
   ]
  },
  {
   "cell_type": "code",
   "execution_count": 28,
   "metadata": {
    "collapsed": false
   },
   "outputs": [
    {
     "data": {
      "image/png": "[encoded data removed]",
      "text/plain": [
       "<matplotlib.figure.Figure at 0x12130cc88>"
      ]
     },
     "metadata": {},
     "output_type": "display_data"
    }
   ],
   "source": [
    "from wordcloud import WordCloud\n",
    "from wordcloud import STOPWORDS\n",
    "from os import path\n",
    "from PIL import Image\n",
    "\n",
    "\n",
    "tags = ' '.join(flickers.tags.values)\n",
    "#tags = preprocessing(' '.join(flickers.tags.values))\n",
    "wc = WordCloud(width=10000, height=10000, stopwords=STOPWORDS)\n",
    "wc.generate(tags)\n",
    "plt.imshow(wc)\n",
    "plt.axis(\"off\")\n",
    "plt.show()"
   ]
  },
  {
   "cell_type": "code",
   "execution_count": 16,
   "metadata": {
    "collapsed": false
   },
   "outputs": [
    {
     "data": {
      "text/plain": [
       "array([' switzerland nikonn80', ' sunset switzerland',\n",
       "       ' mountain ice sign night switzerland davos rink',\n",
       "       ' mountain switzerland davos sunsset',\n",
       "       ' snow alps forest alpes switzerland wallis for?t verbier vallais stchristophe spiritualit? grandcombin valdebagnes',\n",
       "       'switzerland suisse wallis brig valais brigerbad nonjesuisungachemetieretjedetestelesquesamsplaceadesmeilleuresphotosquemoidanssonstream persojemenfoussamakamettrelesphotosquilveutdumomentkellessontjolies',\n",
       "       ' snow alps forest alpes switzerland wallis for?t verbier vallais stchristophe spiritualit? grandcombin valdebagnes',\n",
       "       ' sunset mountain lensbaby switzerland davos',\n",
       "       ' night switzerland luzern january2007',\n",
       "       'people girl beauty bar night lava restaurant schweiz switzerland pub suisse swiss au lounge kecko ostschweiz blonde karaoke svizzera rheintal susa 2007 lavabar swissphoto rheintalbild',\n",
       "       ' lensbaby switzerland best arena davos rink',\n",
       "       ' ice sign night switzerland davos rink',\n",
       "       ' sunset mountain switzerland davos',\n",
       "       ' sunset mountain switzerland davos',\n",
       "       ' 2004 schweiz switzerland suisse hiking engadin wanderung randonn?e graub?nden grisons soglio grigioni grischun valbregaglia casaccia passdaladuana',\n",
       "       'people girl beauty bar night lava restaurant schweiz switzerland pub suisse swiss au lounge kecko ostschweiz blonde karaoke svizzera rheintal susa 2007 lavabar swissphoto rheintalbild',\n",
       "       ' sunset mountain switzerland town valley davos',\n",
       "       ' snow alps forest alpes switzerland wallis for?t verbier vallais stchristophe spiritualit? grandcombin valdebagnes',\n",
       "       ' sunset mountain switzerland davos',\n",
       "       ' sunset mountain church switzerland best spire davos',\n",
       "       ' sunset mountain church switzerland stock davos twon',\n",
       "       ' sunset mountain switzerland town davos',\n",
       "       ' sunset mountain switzerland stock davos',\n",
       "       ' mountain water night switzerland stream best davos',\n",
       "       ' bridge mountain switzerland town dof davos',\n",
       "       ' mountain church lensbaby switzerland best davos',\n",
       "       ' winter red mars holiday planet berend andermatt g?tsch stettler becaro n?tschen',\n",
       "       ' sunset mountain switzerland town davos',\n",
       "       ' mountain night switzerland davos',\n",
       "       ' tractor switzerland skating davos rink',\n",
       "       ' lensbaby switzerland best arena davos rink',\n",
       "       ' moon mountain tree switzerland davos',\n",
       "       ' sunset mountain ski switzerland davos chalet',\n",
       "       ' sunset mountain switzerland town stock davos',\n",
       "       ' mountain ice switzerland outdoor davos rink',\n",
       "       ' mountain night switzerland fireworks path best davos firecrackers',\n",
       "       ' church lensbaby switzerland best davos',\n",
       "       ' road street mountain forest switzerland path davos',\n",
       "       ' lensbaby switzerland stock best arena davos rink',\n",
       "       ' sunset mountain switzerland town stock davos',\n",
       "       ' night switzerland fireworks stock best davos firecrackers',\n",
       "       ' road street mountain switzerland path davos',\n",
       "       ' water switzerland pond europe lion luzern best dustin lucerne mounment',\n",
       "       ' mountain switzerland valley davos',\n",
       "       ' mountain night switzerland town stock best davos',\n",
       "       ' sign switzerland skating davos rink',\n",
       "       ' ice sign night switzerland stock best davos rink',\n",
       "       ' mountain ski train switzerland lift davos',\n",
       "       ' road switzerland suisse geneve nikond70s svizzera 100club 50club',\n",
       "       ' sunset mountain switzerland town davos',\n",
       "       ' snow alps forest alpes switzerland wallis for?t verbier vallais stchristophe spiritualit? grandcombin valdebagnes',\n",
       "       ' sign switzerland skating davos rink',\n",
       "       ' mountain switzerland arena davos rink',\n",
       "       ' road street night switzerland fireworks davos firecrackers',\n",
       "       ' snow alps forest alpes switzerland wallis for?t verbier vallais stchristophe spiritualit? grandcombin valdebagnes',\n",
       "       ' carnival geotagged schweiz switzerland suisse suiza luzern su??a svizzera lucerne bigbang fasnacht svizra urknall geo:lat=47052640 geo:lon=08307627',\n",
       "       ' sunset moon mountain switzerland town arena valley davos rink',\n",
       "       ' 2004 schweiz switzerland suisse hiking engadin wanderung randonn?e graub?nden grisons soglio grigioni grischun valbregaglia casaccia passdaladuana',\n",
       "       ' ice switzerland best arena davos rink',\n",
       "       ' 2004 schweiz switzerland suisse hiking engadin wanderung randonn?e graub?nden grisons soglio grigioni grischun valbregaglia casaccia passdaladuana',\n",
       "       ' sunset mountain switzerland town valley davos',\n",
       "       'inalsecret> blackandwhite bw house building architecture canon schweiz switzerland europa europe haus basel manmade architektur fav dslr canoneos350d geb?ude twa 0207 highscore spalentor inthecity fav3 candreashelke scoreme worldsfavorite score4284 donothide oldstileoriginalsecret fav2andmore scoreis10 20090318552 20090322583</originalsecret',\n",
       "       ' switzerland cablecar villars villarssurollon',\n",
       "       ' 2004 schweiz switzerland suisse hiking engadin wanderung randonn?e graub?nden grisons soglio grigioni grischun valbregaglia casaccia passdaladuana',\n",
       "       ' mountain night switzerland fireworks best davos firecrackers',\n",
       "       ' leica bw snow film snowboarding switzerland skiing nathan trix davos diafine m6 whiteout leicasummicron35mmf20asph',\n",
       "       ' interlochenswitzerland',\n",
       "       ' sunset moon mountain switzerland town arena valley davos rink',\n",
       "       ' winter mountain snow switzerland amazing suisse withe wallis valais sking nax',\n",
       "       ' sunset moon mountain switzerland town valley davos',\n",
       "       ' geotagged fire switzerland swiss',\n",
       "       ' winter holiday snowboarding lift uri berend andermatt g?tsch stettler becaro n?tschen',\n",
       "       ' sunset mountain church switzerland stock valley davos',\n",
       "       ' switzerland luzern january2007',\n",
       "       ' mountain switzerland arena davos rink',\n",
       "       ' 2004 schweiz switzerland suisse hiking engadin wanderung randonn?e graub?nden grisons soglio grigioni grischun spl?genpass',\n",
       "       ' 2004 schweiz switzerland suisse hiking engadin wanderung randonn?e graub?nden grisons soglio grigioni grischun valbregaglia casaccia passdaladuana spseeingthelight',\n",
       "       ' snow alps forest alpes switzerland wallis for?t verbier vallais stchristophe spiritualit? grandcombin valdebagnes',\n",
       "       ' switzerland luzern january2007', ' moon switzerland davos',\n",
       "       'people anna girl beauty bar night germany lava restaurant schweiz switzerland dresden pub suisse swiss au lounge kecko ostschweiz karaoke brunette svizzera rheintal 2007 lavabar swissphoto rheintalbild',\n",
       "       ' mountain night switzerland fireworks davos firecrackers',\n",
       "       ' night switzerland luzern january2007', ' switzerland davos',\n",
       "       ' sunset moon switzerland town dusk davos',\n",
       "       ' sunset moon mountain switzerland town stock best arena valley davos rink',\n",
       "       ' sunset moon mountain switzerland town best valley davos',\n",
       "       ' winter mountain snow landscape switzerland amazing suisse withe peaks wallis valais sking nax',\n",
       "       ' mountain switzerland town valley davos',\n",
       "       ' 2004 schweiz switzerland suisse hiking engadin wanderung randonn?e graub?nden grisons soglio grigioni grischun valbregaglia casaccia passdaladuana',\n",
       "       ' road street bridge night switzerland davos',\n",
       "       'party people anna girl bar night lava restaurant schweiz switzerland dance pub suisse swiss au lounge kecko ostschweiz karaoke svizzera rheintal susa 2007 lavabar swissphoto rheintalbild',\n",
       "       ' 2004 schweiz switzerland suisse hiking engadin wanderung randonn?e graub?nden grisons soglio grigioni grischun valbregaglia casaccia passdaladuana',\n",
       "       ' road street night switzerland fireworks stock best davos firecrackers',\n",
       "       ' mountain ski train switzerland lift davos',\n",
       "       ' mountain switzerland davos', ' church switzerland davos',\n",
       "       ' 2004 schweiz switzerland suisse hiking engadin wanderung randonn?e graub?nden grisons soglio grigioni grischun valbregaglia casaccia passdaladuana',\n",
       "       ' sunset switzerland town davos',\n",
       "       ' 2004 schweiz switzerland suisse hiking engadin wanderung randonn?e graub?nden grisons soglio grigioni grischun valbregaglia casaccia passdaladuana'], dtype=object)"
      ]
     },
     "execution_count": 16,
     "metadata": {},
     "output_type": "execute_result"
    }
   ],
   "source": [
    "flickers.tags.values[:100]"
   ]
  },
  {
   "cell_type": "code",
   "execution_count": 25,
   "metadata": {
    "collapsed": false
   },
   "outputs": [
    {
     "data": {
      "text/plain": [
       "array([' 47.050124', ' 47.543221', ' 46.797892', ..., ' 46.563788',\n",
       "       ' 50.879318', ' 46.317354'], dtype=object)"
      ]
     },
     "execution_count": 25,
     "metadata": {},
     "output_type": "execute_result"
    }
   ],
   "source": [
    "flickers.latitude.values\n"
   ]
  },
  {
   "cell_type": "code",
   "execution_count": null,
   "metadata": {
    "collapsed": true
   },
   "outputs": [],
   "source": []
  }
 ],
 "metadata": {
  "anaconda-cloud": {},
  "kernelspec": {
   "display_name": "Python [Root]",
   "language": "python",
   "name": "Python [Root]"
  },
  "language_info": {
   "codemirror_mode": {
    "name": "ipython",
    "version": 3
   },
   "file_extension": ".py",
   "mimetype": "text/x-python",
   "name": "python",
   "nbconvert_exporter": "python",
   "pygments_lexer": "ipython3",
   "version": "3.5.2"
  }
 },
 "nbformat": 4,
 "nbformat_minor": 0
}
