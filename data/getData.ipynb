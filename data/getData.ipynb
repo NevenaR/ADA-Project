{
 "cells": [
  {
   "cell_type": "code",
   "execution_count": 1,
   "metadata": {
    "collapsed": true
   },
   "outputs": [],
   "source": [
    "import numpy as np\n",
    "import pandas as pd"
   ]
  },
  {
   "cell_type": "markdown",
   "metadata": {},
   "source": [
    "Load the parts of the data:"
   ]
  },
  {
   "cell_type": "code",
   "execution_count": 4,
   "metadata": {
    "collapsed": true
   },
   "outputs": [],
   "source": [
    "p1 = pd.read_csv(\"flickr_data_part1.csv\", sep='\\t')\n",
    "p2 = pd.read_csv(\"flickr_data_part2.csv\", sep='\\t')\n",
    "p3 = pd.read_csv(\"flickr_data_part3.csv\", sep='\\t')\n",
    "p4 = pd.read_csv(\"flickr_data_part4.csv\", sep='\\t')\n",
    "p5 = pd.read_csv(\"flickr_data_part5.csv\", sep='\\t')\n",
    "p6 = pd.read_csv(\"flickr_data_part6.csv\", sep='\\t')"
   ]
  },
  {
   "cell_type": "markdown",
   "metadata": {},
   "source": [
    "And then save to one csv file:"
   ]
  },
  {
   "cell_type": "code",
   "execution_count": 11,
   "metadata": {
    "collapsed": false
   },
   "outputs": [],
   "source": [
    "frames = [p1, p2, p3, p4, p5, p6]\n",
    "df = pd.concat(frames)\n",
    "df = df.drop(df.columns[0], axis = 1)"
   ]
  },
  {
   "cell_type": "code",
   "execution_count": 12,
   "metadata": {
    "collapsed": false
   },
   "outputs": [
    {
     "name": "stdout",
     "output_type": "stream",
     "text": [
      "(2841000, 10)\n"
     ]
    },
    {
     "data": {
      "text/html": [
       "<div>\n",
       "<table border=\"1\" class=\"dataframe\">\n",
       "  <thead>\n",
       "    <tr style=\"text-align: right;\">\n",
       "      <th></th>\n",
       "      <th>userid</th>\n",
       "      <th>title</th>\n",
       "      <th>dateupload</th>\n",
       "      <th>datetaken</th>\n",
       "      <th>views</th>\n",
       "      <th>tags</th>\n",
       "      <th>lat</th>\n",
       "      <th>lon</th>\n",
       "      <th>place_id</th>\n",
       "      <th>woeid</th>\n",
       "    </tr>\n",
       "  </thead>\n",
       "  <tbody>\n",
       "    <tr>\n",
       "      <th>0</th>\n",
       "      <td>134205948@N02</td>\n",
       "      <td>Il Tounot in veste autunnale visto da St Luc</td>\n",
       "      <td>1443166542</td>\n",
       "      <td>1990-01-02 00:00:00</td>\n",
       "      <td>485</td>\n",
       "      <td>winter january stluc valdanniviers fotoanalogi...</td>\n",
       "      <td>46.179830</td>\n",
       "      <td>7.604212</td>\n",
       "      <td>qgR3ESJWWrvegJA</td>\n",
       "      <td>781702.0</td>\n",
       "    </tr>\n",
       "    <tr>\n",
       "      <th>1</th>\n",
       "      <td>21053104@N03</td>\n",
       "      <td>SBB Re6/6 11633</td>\n",
       "      <td>1350361548</td>\n",
       "      <td>1990-01-01 15:26:36</td>\n",
       "      <td>1372</td>\n",
       "      <td>railroad switzerland ticino railway trains svi...</td>\n",
       "      <td>45.837485</td>\n",
       "      <td>9.020311</td>\n",
       "      <td>Ojl8iJtWWrhYxtw</td>\n",
       "      <td>782098.0</td>\n",
       "    </tr>\n",
       "    <tr>\n",
       "      <th>2</th>\n",
       "      <td>21053104@N03</td>\n",
       "      <td>SBB Ae6/6 11404</td>\n",
       "      <td>1247112224</td>\n",
       "      <td>1990-01-06 10:57:06</td>\n",
       "      <td>1501</td>\n",
       "      <td>railroad switzerland ticino railway trains svi...</td>\n",
       "      <td>46.194938</td>\n",
       "      <td>9.029774</td>\n",
       "      <td>eeFmDUFWWrttyWQ</td>\n",
       "      <td>781773.0</td>\n",
       "    </tr>\n",
       "    <tr>\n",
       "      <th>3</th>\n",
       "      <td>21053104@N03</td>\n",
       "      <td>SOB De4/4 21</td>\n",
       "      <td>1275845220</td>\n",
       "      <td>1990-01-21 11:44:57</td>\n",
       "      <td>1865</td>\n",
       "      <td>railroad switzerland railway trains zürich svi...</td>\n",
       "      <td>47.191068</td>\n",
       "      <td>8.686645</td>\n",
       "      <td>9kjHuh1WWr4tnqM</td>\n",
       "      <td>784014.0</td>\n",
       "    </tr>\n",
       "    <tr>\n",
       "      <th>4</th>\n",
       "      <td>71144572@N00</td>\n",
       "      <td>Plymouth Volare 1978 Taxi Zürich 007</td>\n",
       "      <td>1186944050</td>\n",
       "      <td>1990-01-23 00:46:32</td>\n",
       "      <td>1293</td>\n",
       "      <td>schweiz switzerland taxi zurich plymouth taxid...</td>\n",
       "      <td>47.472198</td>\n",
       "      <td>8.323516</td>\n",
       "      <td>y2rhZ5BTW7ltcr39fQ</td>\n",
       "      <td>29397634.0</td>\n",
       "    </tr>\n",
       "  </tbody>\n",
       "</table>\n",
       "</div>"
      ],
      "text/plain": [
       "          userid                                         title  dateupload  \\\n",
       "0  134205948@N02  Il Tounot in veste autunnale visto da St Luc  1443166542   \n",
       "1   21053104@N03                               SBB Re6/6 11633  1350361548   \n",
       "2   21053104@N03                               SBB Ae6/6 11404  1247112224   \n",
       "3   21053104@N03                                  SOB De4/4 21  1275845220   \n",
       "4   71144572@N00          Plymouth Volare 1978 Taxi Zürich 007  1186944050   \n",
       "\n",
       "             datetaken  views  \\\n",
       "0  1990-01-02 00:00:00    485   \n",
       "1  1990-01-01 15:26:36   1372   \n",
       "2  1990-01-06 10:57:06   1501   \n",
       "3  1990-01-21 11:44:57   1865   \n",
       "4  1990-01-23 00:46:32   1293   \n",
       "\n",
       "                                                tags        lat       lon  \\\n",
       "0  winter january stluc valdanniviers fotoanalogi...  46.179830  7.604212   \n",
       "1  railroad switzerland ticino railway trains svi...  45.837485  9.020311   \n",
       "2  railroad switzerland ticino railway trains svi...  46.194938  9.029774   \n",
       "3  railroad switzerland railway trains zürich svi...  47.191068  8.686645   \n",
       "4  schweiz switzerland taxi zurich plymouth taxid...  47.472198  8.323516   \n",
       "\n",
       "             place_id       woeid  \n",
       "0     qgR3ESJWWrvegJA    781702.0  \n",
       "1     Ojl8iJtWWrhYxtw    782098.0  \n",
       "2     eeFmDUFWWrttyWQ    781773.0  \n",
       "3     9kjHuh1WWr4tnqM    784014.0  \n",
       "4  y2rhZ5BTW7ltcr39fQ  29397634.0  "
      ]
     },
     "execution_count": 12,
     "metadata": {},
     "output_type": "execute_result"
    }
   ],
   "source": [
    "print(df.shape)\n",
    "df.head()"
   ]
  },
  {
   "cell_type": "code",
   "execution_count": 15,
   "metadata": {
    "collapsed": false
   },
   "outputs": [],
   "source": [
    "df.to_csv('Flickrs-Switzerland-1990-2017.csv', index=False)"
   ]
  }
 ],
 "metadata": {
  "anaconda-cloud": {},
  "kernelspec": {
   "display_name": "Python [conda root]",
   "language": "python",
   "name": "conda-root-py"
  },
  "language_info": {
   "codemirror_mode": {
    "name": "ipython",
    "version": 3
   },
   "file_extension": ".py",
   "mimetype": "text/x-python",
   "name": "python",
   "nbconvert_exporter": "python",
   "pygments_lexer": "ipython3",
   "version": "3.5.2"
  }
 },
 "nbformat": 4,
 "nbformat_minor": 1
}
