{
 "cells": [
  {
   "cell_type": "code",
   "execution_count": 2,
   "metadata": {
    "collapsed": true
   },
   "outputs": [],
   "source": [
    "from geopy.geocoders import Nominatim\n",
    "from geopy.exc import GeocoderTimedOut, GeocoderServiceError\n",
    "import numpy as np\n",
    "import pandas as pd\n",
    "import requests\n",
    "from bs4 import BeautifulSoup\n",
    "from geopy.geocoders import Nominatim"
   ]
  },
  {
   "cell_type": "code",
   "execution_count": 9,
   "metadata": {
    "collapsed": true
   },
   "outputs": [],
   "source": [
    "#supress warnings\n",
    "import warnings\n",
    "warnings.filterwarnings(\"ignore\")"
   ]
  },
  {
   "cell_type": "markdown",
   "metadata": {},
   "source": [
    "Load the data:"
   ]
  },
  {
   "cell_type": "code",
   "execution_count": 3,
   "metadata": {
    "collapsed": false
   },
   "outputs": [],
   "source": [
    "df = pd.read_csv('Flickrs-Switzerland-1990-2017.csv')"
   ]
  },
  {
   "cell_type": "markdown",
   "metadata": {},
   "source": [
    "Create a dataframe from locations:"
   ]
  },
  {
   "cell_type": "code",
   "execution_count": 6,
   "metadata": {
    "collapsed": false
   },
   "outputs": [
    {
     "data": {
      "text/html": [
       "<div>\n",
       "<table border=\"1\" class=\"dataframe\">\n",
       "  <thead>\n",
       "    <tr style=\"text-align: right;\">\n",
       "      <th></th>\n",
       "      <th>userid</th>\n",
       "      <th>title</th>\n",
       "      <th>dateupload</th>\n",
       "      <th>datetaken</th>\n",
       "      <th>views</th>\n",
       "      <th>tags</th>\n",
       "      <th>lat</th>\n",
       "      <th>lon</th>\n",
       "      <th>place_id</th>\n",
       "      <th>woeid</th>\n",
       "      <th>location</th>\n",
       "    </tr>\n",
       "  </thead>\n",
       "  <tbody>\n",
       "    <tr>\n",
       "      <th>0</th>\n",
       "      <td>134205948@N02</td>\n",
       "      <td>Il Tounot in veste autunnale visto da St Luc</td>\n",
       "      <td>1443166542</td>\n",
       "      <td>1990-01-02 00:00:00</td>\n",
       "      <td>485</td>\n",
       "      <td>winter january stluc valdanniviers fotoanalogi...</td>\n",
       "      <td>46.179830</td>\n",
       "      <td>7.604212</td>\n",
       "      <td>qgR3ESJWWrvegJA</td>\n",
       "      <td>781702.0</td>\n",
       "      <td>none</td>\n",
       "    </tr>\n",
       "    <tr>\n",
       "      <th>1</th>\n",
       "      <td>21053104@N03</td>\n",
       "      <td>SBB Re6/6 11633</td>\n",
       "      <td>1350361548</td>\n",
       "      <td>1990-01-01 15:26:36</td>\n",
       "      <td>1372</td>\n",
       "      <td>railroad switzerland ticino railway trains svi...</td>\n",
       "      <td>45.837485</td>\n",
       "      <td>9.020311</td>\n",
       "      <td>Ojl8iJtWWrhYxtw</td>\n",
       "      <td>782098.0</td>\n",
       "      <td>none</td>\n",
       "    </tr>\n",
       "    <tr>\n",
       "      <th>2</th>\n",
       "      <td>21053104@N03</td>\n",
       "      <td>SBB Ae6/6 11404</td>\n",
       "      <td>1247112224</td>\n",
       "      <td>1990-01-06 10:57:06</td>\n",
       "      <td>1501</td>\n",
       "      <td>railroad switzerland ticino railway trains svi...</td>\n",
       "      <td>46.194938</td>\n",
       "      <td>9.029774</td>\n",
       "      <td>eeFmDUFWWrttyWQ</td>\n",
       "      <td>781773.0</td>\n",
       "      <td>none</td>\n",
       "    </tr>\n",
       "    <tr>\n",
       "      <th>3</th>\n",
       "      <td>21053104@N03</td>\n",
       "      <td>SOB De4/4 21</td>\n",
       "      <td>1275845220</td>\n",
       "      <td>1990-01-21 11:44:57</td>\n",
       "      <td>1865</td>\n",
       "      <td>railroad switzerland railway trains zürich svi...</td>\n",
       "      <td>47.191068</td>\n",
       "      <td>8.686645</td>\n",
       "      <td>9kjHuh1WWr4tnqM</td>\n",
       "      <td>784014.0</td>\n",
       "      <td>none</td>\n",
       "    </tr>\n",
       "    <tr>\n",
       "      <th>4</th>\n",
       "      <td>71144572@N00</td>\n",
       "      <td>Plymouth Volare 1978 Taxi Zürich 007</td>\n",
       "      <td>1186944050</td>\n",
       "      <td>1990-01-23 00:46:32</td>\n",
       "      <td>1293</td>\n",
       "      <td>schweiz switzerland taxi zurich plymouth taxid...</td>\n",
       "      <td>47.472198</td>\n",
       "      <td>8.323516</td>\n",
       "      <td>y2rhZ5BTW7ltcr39fQ</td>\n",
       "      <td>29397634.0</td>\n",
       "      <td>none</td>\n",
       "    </tr>\n",
       "  </tbody>\n",
       "</table>\n",
       "</div>"
      ],
      "text/plain": [
       "          userid                                         title  dateupload  \\\n",
       "0  134205948@N02  Il Tounot in veste autunnale visto da St Luc  1443166542   \n",
       "1   21053104@N03                               SBB Re6/6 11633  1350361548   \n",
       "2   21053104@N03                               SBB Ae6/6 11404  1247112224   \n",
       "3   21053104@N03                                  SOB De4/4 21  1275845220   \n",
       "4   71144572@N00          Plymouth Volare 1978 Taxi Zürich 007  1186944050   \n",
       "\n",
       "             datetaken  views  \\\n",
       "0  1990-01-02 00:00:00    485   \n",
       "1  1990-01-01 15:26:36   1372   \n",
       "2  1990-01-06 10:57:06   1501   \n",
       "3  1990-01-21 11:44:57   1865   \n",
       "4  1990-01-23 00:46:32   1293   \n",
       "\n",
       "                                                tags        lat       lon  \\\n",
       "0  winter january stluc valdanniviers fotoanalogi...  46.179830  7.604212   \n",
       "1  railroad switzerland ticino railway trains svi...  45.837485  9.020311   \n",
       "2  railroad switzerland ticino railway trains svi...  46.194938  9.029774   \n",
       "3  railroad switzerland railway trains zürich svi...  47.191068  8.686645   \n",
       "4  schweiz switzerland taxi zurich plymouth taxid...  47.472198  8.323516   \n",
       "\n",
       "             place_id       woeid location  \n",
       "0     qgR3ESJWWrvegJA    781702.0     none  \n",
       "1     Ojl8iJtWWrhYxtw    782098.0     none  \n",
       "2     eeFmDUFWWrttyWQ    781773.0     none  \n",
       "3     9kjHuh1WWr4tnqM    784014.0     none  \n",
       "4  y2rhZ5BTW7ltcr39fQ  29397634.0     none  "
      ]
     },
     "execution_count": 6,
     "metadata": {},
     "output_type": "execute_result"
    }
   ],
   "source": [
    "df.head()"
   ]
  },
  {
   "cell_type": "code",
   "execution_count": 10,
   "metadata": {
    "collapsed": false
   },
   "outputs": [
    {
     "data": {
      "text/plain": [
       "302784"
      ]
     },
     "execution_count": 10,
     "metadata": {},
     "output_type": "execute_result"
    }
   ],
   "source": [
    "df1 = df[['lat', 'lon']]\n",
    "df1.lat = round(df1['lat'].astype(float),3)\n",
    "df1.lon = round(df1['lon'].astype(float),3)\n",
    "df1['location'] = 'none'\n",
    "df1['location'][0:df1.shape[0]-1] = df1.iloc[0:df1.shape[0]-1, 0:2].apply(lambda x: str(x[0]) + ', ' + str(x[1]), axis=1)\n",
    "len(df1.location.unique())"
   ]
  },
  {
   "cell_type": "markdown",
   "metadata": {},
   "source": [
    "As it can be seen, there are a lot of locations that are the same in the dataframe, so only unique locations are mapped to cantons and will be used later to create a dictionary (location to canton)."
   ]
  },
  {
   "cell_type": "code",
   "execution_count": 13,
   "metadata": {
    "collapsed": false
   },
   "outputs": [],
   "source": [
    "df1 = df1.drop_duplicates()"
   ]
  },
  {
   "cell_type": "code",
   "execution_count": 18,
   "metadata": {
    "collapsed": false
   },
   "outputs": [
    {
     "data": {
      "text/html": [
       "<div>\n",
       "<table border=\"1\" class=\"dataframe\">\n",
       "  <thead>\n",
       "    <tr style=\"text-align: right;\">\n",
       "      <th></th>\n",
       "      <th>location</th>\n",
       "      <th>canton</th>\n",
       "    </tr>\n",
       "  </thead>\n",
       "  <tbody>\n",
       "    <tr>\n",
       "      <th>0</th>\n",
       "      <td>46.18, 7.604</td>\n",
       "      <td>none</td>\n",
       "    </tr>\n",
       "    <tr>\n",
       "      <th>1</th>\n",
       "      <td>45.837, 9.02</td>\n",
       "      <td>none</td>\n",
       "    </tr>\n",
       "    <tr>\n",
       "      <th>2</th>\n",
       "      <td>46.195, 9.03</td>\n",
       "      <td>none</td>\n",
       "    </tr>\n",
       "    <tr>\n",
       "      <th>3</th>\n",
       "      <td>47.191, 8.687</td>\n",
       "      <td>none</td>\n",
       "    </tr>\n",
       "    <tr>\n",
       "      <th>4</th>\n",
       "      <td>47.472, 8.324</td>\n",
       "      <td>none</td>\n",
       "    </tr>\n",
       "  </tbody>\n",
       "</table>\n",
       "</div>"
      ],
      "text/plain": [
       "        location canton\n",
       "0   46.18, 7.604   none\n",
       "1   45.837, 9.02   none\n",
       "2   46.195, 9.03   none\n",
       "3  47.191, 8.687   none\n",
       "4  47.472, 8.324   none"
      ]
     },
     "execution_count": 18,
     "metadata": {},
     "output_type": "execute_result"
    }
   ],
   "source": [
    "new = df1[['location']]\n",
    "new['canton'] = 'none'\n",
    "new.head()"
   ]
  },
  {
   "cell_type": "markdown",
   "metadata": {},
   "source": [
    "The exc list is used to store the exceptions caused by timeout and l list - caused by 'too many requests' error."
   ]
  },
  {
   "cell_type": "code",
   "execution_count": 20,
   "metadata": {
    "collapsed": true
   },
   "outputs": [],
   "source": [
    "exc = [] #to store timeout location\n",
    "l = [] #to store exception batches"
   ]
  },
  {
   "cell_type": "markdown",
   "metadata": {},
   "source": [
    "The function for mapping locations to cantons:"
   ]
  },
  {
   "cell_type": "code",
   "execution_count": 12,
   "metadata": {
    "collapsed": true
   },
   "outputs": [],
   "source": [
    "from time import sleep\n",
    "\n",
    "def addCanton(row):\n",
    "    loc = row\n",
    "    try:\n",
    "        sleep(0.01) # Time in seconds.\n",
    "        geolocator = Nominatim()\n",
    "        location = geolocator.reverse(loc)\n",
    "        try:\n",
    "            canton = location.raw[\"address\"][\"state\"]\n",
    "            return canton\n",
    "        except KeyError:\n",
    "            return None\n",
    "    except GeocoderTimedOut:\n",
    "        print(\"Exception: \" + str(row))\n",
    "        exc.append(loc)\n",
    "        return 'none'"
   ]
  },
  {
   "cell_type": "code",
   "execution_count": 19,
   "metadata": {
    "collapsed": false
   },
   "outputs": [
    {
     "data": {
      "text/plain": [
       "302784"
      ]
     },
     "execution_count": 19,
     "metadata": {},
     "output_type": "execute_result"
    }
   ],
   "source": [
    "new.shape[0]"
   ]
  },
  {
   "cell_type": "code",
   "execution_count": null,
   "metadata": {
    "collapsed": true
   },
   "outputs": [],
   "source": [
    "for i in range(0, 302500, 500):\n",
    "    print(\"starting\" + str(i))\n",
    "    try:\n",
    "        new['canton'][i:(i+500)] = new.iloc[i:(i+500), 0].apply(addCanton)\n",
    "    except GeocoderServiceError:\n",
    "        print(\"Exception with batch starting at \"+str(i))\n",
    "        l.append(i)\n",
    "        sleep(600)\n",
    "    sleep(300)"
   ]
  },
  {
   "cell_type": "code",
   "execution_count": null,
   "metadata": {
    "collapsed": true
   },
   "outputs": [],
   "source": [
    "#to be done when the previous cycle finished completely\n",
    "new['canton'][302500:new.shape[0]] = new.iloc[302500:new.shape[0], 0].apply(addCanton)\n",
    "#in case of GeocoderServiceError, which is usually caused by too many requests, wait some time and then try again"
   ]
  },
  {
   "cell_type": "markdown",
   "metadata": {},
   "source": [
    "Now we need to deal with exceptions:"
   ]
  },
  {
   "cell_type": "code",
   "execution_count": null,
   "metadata": {
    "collapsed": true
   },
   "outputs": [],
   "source": [
    "l1 = []"
   ]
  },
  {
   "cell_type": "code",
   "execution_count": null,
   "metadata": {
    "collapsed": true
   },
   "outputs": [],
   "source": [
    "for i in l:\n",
    "    print(\"starting\" + str(i))\n",
    "    try:\n",
    "        new['canton'][i:(i+500)] = new.iloc[i:(i+500), 0].apply(addCanton)\n",
    "    except GeocoderServiceError:\n",
    "        print(\"Exception with batch starting at \"+str(i))\n",
    "        l1.append(i)\n",
    "        sleep(600)\n",
    "    sleep(300)"
   ]
  },
  {
   "cell_type": "markdown",
   "metadata": {},
   "source": [
    "The other list l1 is used in case there are more exceptions, so they are stored separately. In case of new exceptions, the code above should be run again accordingly."
   ]
  },
  {
   "cell_type": "markdown",
   "metadata": {},
   "source": [
    "And now the remaining exceptions. The exc list can be used, but here we are just mapping the locations that are left (which should cover all the exc cases). "
   ]
  },
  {
   "cell_type": "code",
   "execution_count": null,
   "metadata": {
    "collapsed": true
   },
   "outputs": [],
   "source": [
    "ind = df[df.canton == 'none'].index.values"
   ]
  },
  {
   "cell_type": "code",
   "execution_count": null,
   "metadata": {
    "collapsed": true
   },
   "outputs": [],
   "source": [
    "for i in ind:\n",
    "    print(\"starting\" + str(i))\n",
    "    try:\n",
    "        new['canton'][i:(i+1)] = new.iloc[i:(i+1), 0].apply(addCanton)\n",
    "    except GeocoderServiceError:\n",
    "        print(\"Exception at \"+str(i))\n",
    "        sleep(600)"
   ]
  },
  {
   "cell_type": "markdown",
   "metadata": {},
   "source": [
    "In case of any exceptions the code above (two cells) should be run again. At the end there should be no elements in the dataframe where canton is 'none'. Here's the check:"
   ]
  },
  {
   "cell_type": "code",
   "execution_count": null,
   "metadata": {
    "collapsed": true
   },
   "outputs": [],
   "source": [
    "#The result should be empty\n",
    "new[new.canton == 'none']"
   ]
  },
  {
   "cell_type": "markdown",
   "metadata": {},
   "source": [
    "Now it's important to save the dataframe, so it can be used later without redoing the whole process again."
   ]
  },
  {
   "cell_type": "code",
   "execution_count": null,
   "metadata": {
    "collapsed": true
   },
   "outputs": [],
   "source": [
    "with open('df3.pickle', 'wb') as handle:\n",
    "    pickle.dump(new, handle, protocol=pickle.HIGHEST_PROTOCOL)"
   ]
  },
  {
   "cell_type": "markdown",
   "metadata": {},
   "source": [
    "The mapped dataframe is stored in df3.pickle now."
   ]
  }
 ],
 "metadata": {
  "anaconda-cloud": {},
  "kernelspec": {
   "display_name": "Python [conda root]",
   "language": "python",
   "name": "conda-root-py"
  },
  "language_info": {
   "codemirror_mode": {
    "name": "ipython",
    "version": 3
   },
   "file_extension": ".py",
   "mimetype": "text/x-python",
   "name": "python",
   "nbconvert_exporter": "python",
   "pygments_lexer": "ipython3",
   "version": "3.5.2"
  }
 },
 "nbformat": 4,
 "nbformat_minor": 1
}
