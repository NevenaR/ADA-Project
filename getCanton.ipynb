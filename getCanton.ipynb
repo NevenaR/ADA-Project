{
 "cells": [
  {
   "cell_type": "code",
   "execution_count": 1,
   "metadata": {
    "collapsed": true
   },
   "outputs": [],
   "source": [
    "from geopy.geocoders import Nominatim\n",
    "from geopy.exc import GeocoderTimedOut, GeocoderServiceError\n",
    "import numpy as np\n",
    "import pandas as pd\n",
    "import requests\n",
    "from bs4 import BeautifulSoup\n",
    "from geopy.geocoders import Nominatim"
   ]
  },
  {
   "cell_type": "code",
   "execution_count": 10,
   "metadata": {
    "collapsed": false
   },
   "outputs": [
    {
     "data": {
      "text/html": [
       "<div>\n",
       "<table border=\"1\" class=\"dataframe\">\n",
       "  <thead>\n",
       "    <tr style=\"text-align: right;\">\n",
       "      <th></th>\n",
       "      <th>location</th>\n",
       "      <th>canton</th>\n",
       "    </tr>\n",
       "  </thead>\n",
       "  <tbody>\n",
       "    <tr>\n",
       "      <th>0</th>\n",
       "      <td>47.368166, 8.523833</td>\n",
       "      <td>none</td>\n",
       "    </tr>\n",
       "    <tr>\n",
       "      <th>1</th>\n",
       "      <td>46.849809, 9.532291</td>\n",
       "      <td>none</td>\n",
       "    </tr>\n",
       "    <tr>\n",
       "      <th>2</th>\n",
       "      <td>46.84986, 9.532248</td>\n",
       "      <td>none</td>\n",
       "    </tr>\n",
       "    <tr>\n",
       "      <th>3</th>\n",
       "      <td>46.849809, 9.532313</td>\n",
       "      <td>none</td>\n",
       "    </tr>\n",
       "    <tr>\n",
       "      <th>4</th>\n",
       "      <td>46.849794, 9.532281</td>\n",
       "      <td>none</td>\n",
       "    </tr>\n",
       "  </tbody>\n",
       "</table>\n",
       "</div>"
      ],
      "text/plain": [
       "              location canton\n",
       "0  47.368166, 8.523833   none\n",
       "1  46.849809, 9.532291   none\n",
       "2   46.84986, 9.532248   none\n",
       "3  46.849809, 9.532313   none\n",
       "4  46.849794, 9.532281   none"
      ]
     },
     "execution_count": 10,
     "metadata": {},
     "output_type": "execute_result"
    }
   ],
   "source": [
    "new = pd.read_csv(\"part2.csv\", sep='\\t') #or pd.read_csv(\"part3.csv\", sep='\\t') for third part\n",
    "new = pd.DataFrame(new.iloc[:,1])\n",
    "new.columns = ['location']\n",
    "new['canton'] = 'none'\n",
    "new.head()"
   ]
  },
  {
   "cell_type": "code",
   "execution_count": 11,
   "metadata": {
    "collapsed": true
   },
   "outputs": [],
   "source": [
    "exc = [] #to store exception batches\n",
    "l = [] #to store timeout location"
   ]
  },
  {
   "cell_type": "code",
   "execution_count": 12,
   "metadata": {
    "collapsed": true
   },
   "outputs": [],
   "source": [
    "from time import sleep\n",
    "\n",
    "def addCanton(row):\n",
    "    loc = row\n",
    "    try:\n",
    "        sleep(0.01) # Time in seconds.\n",
    "        geolocator = Nominatim()\n",
    "        location = geolocator.reverse(loc)\n",
    "        try:\n",
    "            canton = location.raw[\"address\"][\"state\"]\n",
    "            return canton\n",
    "        except KeyError:\n",
    "            return None\n",
    "    except GeocoderTimedOut:\n",
    "        print(\"Exception: \" + str(row))\n",
    "        exc.append(loc)\n",
    "        return 'none'"
   ]
  },
  {
   "cell_type": "code",
   "execution_count": 13,
   "metadata": {
    "collapsed": false
   },
   "outputs": [
    {
     "data": {
      "text/plain": [
       "322108"
      ]
     },
     "execution_count": 13,
     "metadata": {},
     "output_type": "execute_result"
    }
   ],
   "source": [
    "new.shape[0]"
   ]
  },
  {
   "cell_type": "markdown",
   "metadata": {},
   "source": [
    "### Whenever there are problems with batches, you can stop the cycle (all the batches that have finished are stored) and change the range values to start over from where you need. Also, there is 108 values left that would need to be done after the whole cycle is done"
   ]
  },
  {
   "cell_type": "code",
   "execution_count": null,
   "metadata": {
    "collapsed": true
   },
   "outputs": [],
   "source": [
    "for i in range(0, 322000, 500):\n",
    "    print(\"starting\" + str(i))\n",
    "    try:\n",
    "        new['canton'][i:(i+500)] = new.iloc[i:(i+500), 0].apply(addCanton)\n",
    "    except GeocoderServiceError:\n",
    "        print(\"Exception with batch starting at \"+str(i))\n",
    "        l.append(i)\n",
    "        sleep(600)\n",
    "    sleep(300)"
   ]
  },
  {
   "cell_type": "code",
   "execution_count": null,
   "metadata": {
    "collapsed": true
   },
   "outputs": [],
   "source": [
    "#to be done when the previous cycle finished completely\n",
    "new['canton'][322000:322108] = new.iloc[322000:322108, 0].apply(addCanton)\n",
    "#in case of GeocoderServiceError, which is usually caused by too many requests, wait some time and then try again"
   ]
  },
  {
   "cell_type": "markdown",
   "metadata": {},
   "source": [
    "### Now it's important to save the dataframe, so it can be used later without redoing the whole process again. Also, check if this dataframe contains any 'none' field in canton column. If there is (could be because of timeout), they need to be done again, with the help of the same line above (but with the right indices)."
   ]
  },
  {
   "cell_type": "code",
   "execution_count": null,
   "metadata": {
    "collapsed": true
   },
   "outputs": [],
   "source": [
    "import pickle\n",
    "\n",
    "# this is to save to pickle\n",
    "with open('canton_loc.pickle', 'wb') as handle:\n",
    "    pickle.dump(new, handle, protocol=pickle.HIGHEST_PROTOCOL)\n",
    "\n",
    "# this is to load from pickled data\n",
    "with open('canton_loc.pickle', 'rb') as handle:\n",
    "    new = pickle.load(handle)"
   ]
  }
 ],
 "metadata": {
  "anaconda-cloud": {},
  "kernelspec": {
   "display_name": "Python [conda root]",
   "language": "python",
   "name": "conda-root-py"
  },
  "language_info": {
   "codemirror_mode": {
    "name": "ipython",
    "version": 3
   },
   "file_extension": ".py",
   "mimetype": "text/x-python",
   "name": "python",
   "nbconvert_exporter": "python",
   "pygments_lexer": "ipython3",
   "version": "3.5.2"
  }
 },
 "nbformat": 4,
 "nbformat_minor": 1
}
